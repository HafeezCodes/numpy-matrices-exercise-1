{
  "nbformat": 4,
  "nbformat_minor": 0,
  "metadata": {
    "colab": {
      "provenance": [],
      "authorship_tag": "ABX9TyMi8UHrbWBenmk6e9vJXeXW",
      "include_colab_link": true
    },
    "kernelspec": {
      "name": "python3",
      "display_name": "Python 3"
    },
    "language_info": {
      "name": "python"
    }
  },
  "cells": [
    {
      "cell_type": "markdown",
      "metadata": {
        "id": "view-in-github",
        "colab_type": "text"
      },
      "source": [
        "<a href=\"https://colab.research.google.com/github/HafeezCodes/numpy-matrices-exercise-1/blob/main/numpy_matrices_exercise_1.ipynb\" target=\"_parent\"><img src=\"https://colab.research.google.com/assets/colab-badge.svg\" alt=\"Open In Colab\"/></a>"
      ]
    },
    {
      "cell_type": "code",
      "execution_count": 57,
      "metadata": {
        "id": "wVyKyj05Ts1k"
      },
      "outputs": [],
      "source": [
        "import numpy as np"
      ]
    },
    {
      "cell_type": "code",
      "source": [
        "# revenue and expenses are two 3x3 matrices that represents the sales and expenses of 3 different products in 3 different years\n",
        "# every column represent sales in a specific year\n",
        "# every row represents a specific product\n",
        "revenue  = np.array([[100,150,200],[250,300,350],[400,450,500]])\n",
        "print(\"revenue = \\n\", revenue)\n",
        "expenses = np.array([[10,15,20],[25,30,35],[40,45,50]])\n",
        "print(\"expenses = \\n\", expenses)\n",
        "profit = revenue - expenses\n",
        "print(\"profit = revenue - expenses = \\n\", profit)"
      ],
      "metadata": {
        "colab": {
          "base_uri": "https://localhost:8080/"
        },
        "id": "RLYsblNFT0EV",
        "outputId": "0302cfee-1206-4613-af2b-6f75f452defe"
      },
      "execution_count": 58,
      "outputs": [
        {
          "output_type": "stream",
          "name": "stdout",
          "text": [
            "revenue = \n",
            " [[100 150 200]\n",
            " [250 300 350]\n",
            " [400 450 500]]\n",
            "expenses = \n",
            " [[10 15 20]\n",
            " [25 30 35]\n",
            " [40 45 50]]\n",
            "profit = revenue - expenses = \n",
            " [[ 90 135 180]\n",
            " [225 270 315]\n",
            " [360 405 450]]\n"
          ]
        }
      ]
    },
    {
      "cell_type": "code",
      "source": [
        "# price_per_unit here is a 1x3 row vector matrix\n",
        "# row represents the price per unit\n",
        "# Each column represent a different product\n",
        "price_per_unit = np.array([100,500,1000])\n",
        "print(\"price_per_unit = \\n\", price_per_unit)\n",
        "\n",
        "# units is 3x3 matrix where each row represents a specific product and each column a specific year\n",
        "units = np.array([[30,40,50],[5,10,15],[2,5,7]])\n",
        "print(\"units = \\n\", units)\n",
        "\n",
        "# to calculate how many units sold of all products (3 in this case) in a specific year, we multiply these 2 matrices using dot product\n",
        "units_sold_per_year = np.dot(price_per_unit, units)\n",
        "print(\"units_sold_per_year = \\n\", units_sold_per_year)"
      ],
      "metadata": {
        "colab": {
          "base_uri": "https://localhost:8080/"
        },
        "id": "ymxK8UiWUv62",
        "outputId": "05f9b50d-5f64-4757-c2a2-d64fab4e0f0a"
      },
      "execution_count": 59,
      "outputs": [
        {
          "output_type": "stream",
          "name": "stdout",
          "text": [
            "price_per_unit = \n",
            " [ 100  500 1000]\n",
            "units = \n",
            " [[30 40 50]\n",
            " [ 5 10 15]\n",
            " [ 2  5  7]]\n",
            "units_sold_per_year = \n",
            " [ 7500 14000 19500]\n"
          ]
        }
      ]
    },
    {
      "cell_type": "code",
      "source": [
        "# revenue_in_dollars is a 4x3 matrix that represents revenue of 4 companies in 3 different years in US dollars\n",
        "# Using numpy we will convert this into pakistani rupees\n",
        "# 1 USD = 275 pkr\n",
        "revenue_in_dollars = np.array([[200,220,250],[68,79,105],[110,140,180],[80,85,90]])\n",
        "revenue_in_pkr = revenue_in_dollars * 275\n",
        "print(\"revenue in USD = \\n\", revenue_in_dollars)\n",
        "print(\"revenue in PKR = \\n\", revenue_in_pkr)"
      ],
      "metadata": {
        "colab": {
          "base_uri": "https://localhost:8080/"
        },
        "id": "JxPuJIrUa3gs",
        "outputId": "b09411cd-8838-441e-baad-b92b1e6d59c4"
      },
      "execution_count": 60,
      "outputs": [
        {
          "output_type": "stream",
          "name": "stdout",
          "text": [
            "revenue in USD = \n",
            " [[200 220 250]\n",
            " [ 68  79 105]\n",
            " [110 140 180]\n",
            " [ 80  85  90]]\n",
            "revenue in PKR = \n",
            " [[55000 60500 68750]\n",
            " [18700 21725 28875]\n",
            " [30250 38500 49500]\n",
            " [22000 23375 24750]]\n"
          ]
        }
      ]
    },
    {
      "cell_type": "code",
      "source": [
        "# units_sold is a 3x3 matrix which represents the sales of 3 different flowers in 3 different months\n",
        "units_sold = np.array([[50,60,25],[10,13,14],[40,50,60]])\n",
        "print(\"units_sold = \\n\", units_sold)\n",
        "\n",
        "# price_per_unit is a 3x1 column vector matrix which represents the price per unit of each type of flower\n",
        "price_per_unit = np.array([[1000],[800],[1700]])\n",
        "print(\"price_per_unit = \\n\", price_per_unit)\n",
        "\n",
        "# total_sales is a 3x1 column vector matrix which represents the total sales of each type of flower\n",
        "total_sales = np.dot(units_sold, price_per_unit)\n",
        "print( \"total sales = \\n\", total_sales)\n"
      ],
      "metadata": {
        "colab": {
          "base_uri": "https://localhost:8080/"
        },
        "id": "Dx3snKEobee8",
        "outputId": "3258ad4e-e548-41c2-940a-fc7fe6f6f200"
      },
      "execution_count": 61,
      "outputs": [
        {
          "output_type": "stream",
          "name": "stdout",
          "text": [
            "units_sold = \n",
            " [[50 60 25]\n",
            " [10 13 14]\n",
            " [40 50 60]]\n",
            "price_per_unit = \n",
            " [[1000]\n",
            " [ 800]\n",
            " [1700]]\n",
            "total sales = \n",
            " [[140500]\n",
            " [ 44200]\n",
            " [182000]]\n"
          ]
        }
      ]
    },
    {
      "cell_type": "code",
      "source": [],
      "metadata": {
        "id": "kxJNx67hsywb"
      },
      "execution_count": null,
      "outputs": []
    }
  ]
}